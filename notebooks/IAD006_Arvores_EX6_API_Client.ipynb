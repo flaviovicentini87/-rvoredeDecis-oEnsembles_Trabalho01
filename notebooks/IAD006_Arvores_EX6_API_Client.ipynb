{
 "cells": [
  {
   "cell_type": "code",
   "execution_count": 21,
   "metadata": {},
   "outputs": [
    {
     "name": "stdout",
     "output_type": "stream",
     "text": [
      "../imagens/imagem_negativa.png -> {'image': {'im': None, '_mode': 'RGBA', '_size': [8, 8], 'palette': None, 'info': {'Software': 'Matplotlib version3.9.0, https://matplotlib.org/', 'dpi': [99.9998, 99.9998]}, 'readonly': 1, 'pyaccess': None, '_exif': None, '_min_frame': 0, 'custom_mimetype': None, 'tile': [['zip', [0, 0, 8, 8], 131, 'RGBA']], 'decoderconfig': [], 'decodermaxblock': 65536, 'fp': {}, 'filename': '', '_exclusive_fp': False, '_fp': {}, '_PngImageFile__frame': 0, 'private_chunks': [], 'png': {'fp': {}, 'queue': [], 'im_info': {'Software': 'Matplotlib version3.9.0, https://matplotlib.org/', 'dpi': [99.9998, 99.9998]}, 'im_text': {'Software': 'Matplotlib version3.9.0, https://matplotlib.org/'}, 'im_size': [8, 8], 'im_mode': 'RGBA', 'im_tile': [['zip', [0, 0, 8, 8], 131, 'RGBA']], 'im_palette': None, 'im_custom_mimetype': None, 'im_n_frames': None, '_seq_num': None, 'rewind_state': None, 'text_memory': 48, 'im_rawmode': 'RGBA', 'im_idat': 235}, '_text': None, 'n_frames': 1, 'default_image': False, '_PngImageFile__prepare_idat': 235, 'is_animated': False}}\n",
      "../imagens/imagem_positiva.png -> {'image': {'im': None, '_mode': 'RGBA', '_size': [8, 8], 'palette': None, 'info': {'Software': 'Matplotlib version3.9.0, https://matplotlib.org/', 'dpi': [99.9998, 99.9998]}, 'readonly': 1, 'pyaccess': None, '_exif': None, '_min_frame': 0, 'custom_mimetype': None, 'tile': [['zip', [0, 0, 8, 8], 131, 'RGBA']], 'decoderconfig': [], 'decodermaxblock': 65536, 'fp': {}, 'filename': '', '_exclusive_fp': False, '_fp': {}, '_PngImageFile__frame': 0, 'private_chunks': [], 'png': {'fp': {}, 'queue': [], 'im_info': {'Software': 'Matplotlib version3.9.0, https://matplotlib.org/', 'dpi': [99.9998, 99.9998]}, 'im_text': {'Software': 'Matplotlib version3.9.0, https://matplotlib.org/'}, 'im_size': [8, 8], 'im_mode': 'RGBA', 'im_tile': [['zip', [0, 0, 8, 8], 131, 'RGBA']], 'im_palette': None, 'im_custom_mimetype': None, 'im_n_frames': None, '_seq_num': None, 'rewind_state': None, 'text_memory': 48, 'im_rawmode': 'RGBA', 'im_idat': 135}, '_text': None, 'n_frames': 1, 'default_image': False, '_PngImageFile__prepare_idat': 135, 'is_animated': False}}\n",
      "../imagens/imagem_positiva_ruido.png -> {'image': {'im': None, '_mode': 'RGBA', '_size': [8, 8], 'palette': None, 'info': {'Software': 'Matplotlib version3.9.0, https://matplotlib.org/', 'dpi': [99.9998, 99.9998]}, 'readonly': 1, 'pyaccess': None, '_exif': None, '_min_frame': 0, 'custom_mimetype': None, 'tile': [['zip', [0, 0, 8, 8], 131, 'RGBA']], 'decoderconfig': [], 'decodermaxblock': 65536, 'fp': {}, 'filename': '', '_exclusive_fp': False, '_fp': {}, '_PngImageFile__frame': 0, 'private_chunks': [], 'png': {'fp': {}, 'queue': [], 'im_info': {'Software': 'Matplotlib version3.9.0, https://matplotlib.org/', 'dpi': [99.9998, 99.9998]}, 'im_text': {'Software': 'Matplotlib version3.9.0, https://matplotlib.org/'}, 'im_size': [8, 8], 'im_mode': 'RGBA', 'im_tile': [['zip', [0, 0, 8, 8], 131, 'RGBA']], 'im_palette': None, 'im_custom_mimetype': None, 'im_n_frames': None, '_seq_num': None, 'rewind_state': None, 'text_memory': 48, 'im_rawmode': 'RGBA', 'im_idat': 194}, '_text': None, 'n_frames': 1, 'default_image': False, '_PngImageFile__prepare_idat': 194, 'is_animated': False}}\n"
     ]
    }
   ],
   "source": [
    "import requests\n",
    "import os\n",
    "import base64\n",
    "\n",
    "\n",
    "url = 'http://127.0.0.1:8000/predict/'\n",
    "\n",
    "arquivos = ['../imagens/imagem_negativa.png', '../imagens/imagem_positiva.png', '../imagens/imagem_positiva_ruido.png']\n",
    "\n",
    "for arquivo in arquivos:\n",
    "    if not os.path.isfile(arquivo):\n",
    "        print(f\"{arquivo} -> Arquivo não encontrado\")\n",
    "    else:\n",
    "        #se o arquivo existe, carrega a imagem em formato binario\n",
    "        with open(arquivo, \"rb\") as image_file:\n",
    "            image_content = image_file.read()\n",
    "\n",
    "        #converte para base64\n",
    "        image_base64 = base64.b64encode(image_content).decode('utf-8')\n",
    "\n",
    "        #formata os parametros do request\n",
    "        data = {\n",
    "           \"filename\": arquivo.split(\"/\")[-1],\n",
    "            \"content\": image_base64\n",
    "        }\n",
    "\n",
    "        #Se a imagem foi carregada corretamente faz o request para a API\n",
    "        try:\n",
    "            resp = requests.post(url, json=data)\n",
    "            print(f\"{arquivo} -> {resp.json()}\")\n",
    "        except requests.exceptions.HTTPError as http_err:\n",
    "            print(f\"{arquivo} -> erro de HTTP: {http_err}\")\n",
    "        except requests.exceptions.ConnectionError as conn_err:\n",
    "            print(f\"{arquivo} -> erro de conexão: {conn_err}\")\n",
    "        except requests.exceptions.Timeout as timeout_err:\n",
    "            print(f\"{arquivo} -> erro de Timeout: {timeout_err}\")\n",
    "        except requests.exceptions.RequestException as req_err:\n",
    "            print(f\"{arquivo} -> erro: {req_err}\")\n",
    "\n",
    "\n"
   ]
  }
 ],
 "metadata": {
  "kernelspec": {
   "display_name": "Python 3",
   "language": "python",
   "name": "python3"
  },
  "language_info": {
   "codemirror_mode": {
    "name": "ipython",
    "version": 3
   },
   "file_extension": ".py",
   "mimetype": "text/x-python",
   "name": "python",
   "nbconvert_exporter": "python",
   "pygments_lexer": "ipython3",
   "version": "3.10.13"
  }
 },
 "nbformat": 4,
 "nbformat_minor": 2
}
