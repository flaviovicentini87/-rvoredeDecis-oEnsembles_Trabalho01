{
 "cells": [
  {
   "cell_type": "code",
   "execution_count": 8,
   "metadata": {},
   "outputs": [
    {
     "name": "stdout",
     "output_type": "stream",
     "text": [
      "../imagens/imagem_negativa.png -> \n",
      "../imagens/imagem_positiva.png -> \n",
      "../imagens/imagem_positiva_ruido.png -> \n"
     ]
    },
    {
     "data": {
      "image/png": "[encoded data removed]",
      "text/plain": [
       "<Figure size 640x480 with 1 Axes>"
      ]
     },
     "metadata": {},
     "output_type": "display_data"
    }
   ],
   "source": [
    "import requests\n",
    "import os, cv2\n",
    "import base64\n",
    "import matplotlib.pyplot as plt\n",
    "import numpy as np\n",
    "\n",
    "\n",
    "url = 'http://127.0.0.1:8000/predict/'\n",
    "\n",
    "arquivos = ['../imagens/imagem_negativa.png', '../imagens/imagem_positiva.png', '../imagens/imagem_positiva_ruido.png']\n",
    "\n",
    "for arquivo in arquivos:\n",
    "    if not os.path.isfile(arquivo):\n",
    "        print(f\"{arquivo} -> Arquivo não encontrado\")\n",
    "    else:\n",
    "        #se o arquivo existe, carrega a imagem em formato binario\n",
    "#        with open(arquivo, \"rb\") as image_file:\n",
    "#            image_content = image_file.read()\n",
    "\n",
    "        im = cv2.imread(arquivo)\n",
    "        # Imagem em escala de cinzas\n",
    "        gray = cv2.cvtColor(im,cv2.COLOR_RGB2GRAY)\n",
    "\n",
    "        gray16 = ((gray/255) * 16).astype(np.uint8)\n",
    "        plt.imshow(gray16, cmap='gray'),plt.title('Imagem capturada')\n",
    "\n",
    "        #converte para base64\n",
    "        #image_base64 = base64.b64encode(image_content).decode('utf-8')\n",
    "\n",
    "        #formata os parametros do request\n",
    "        #data = {\n",
    "        #   \"filename\": arquivo.split(\"/\")[-1],\n",
    "        #    \"content\": image_base64\n",
    "        #}\n",
    "\n",
    "        #Se a imagem foi carregada corretamente faz o request para a API\n",
    "        try:\n",
    "            #resp = requests.post(url, data=gray16)\n",
    "            print(f\"{arquivo} -> \")#{resp.json()}\")\n",
    "        except requests.exceptions.HTTPError as http_err:\n",
    "            print(f\"{arquivo} -> erro de HTTP: {http_err}\")\n",
    "        except requests.exceptions.ConnectionError as conn_err:\n",
    "            print(f\"{arquivo} -> erro de conexão: {conn_err}\")\n",
    "        except requests.exceptions.Timeout as timeout_err:\n",
    "            print(f\"{arquivo} -> erro de Timeout: {timeout_err}\")\n",
    "        except requests.exceptions.RequestException as req_err:\n",
    "            print(f\"{arquivo} -> erro: {req_err}\")\n",
    "\n",
    "\n"
   ]
  }
 ],
 "metadata": {
  "kernelspec": {
   "display_name": "Python 3",
   "language": "python",
   "name": "python3"
  },
  "language_info": {
   "codemirror_mode": {
    "name": "ipython",
    "version": 3
   },
   "file_extension": ".py",
   "mimetype": "text/x-python",
   "name": "python",
   "nbconvert_exporter": "python",
   "pygments_lexer": "ipython3",
   "version": "3.10.13"
  }
 },
 "nbformat": 4,
 "nbformat_minor": 2
}
