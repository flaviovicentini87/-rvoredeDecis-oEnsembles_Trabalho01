{
 "cells": [
  {
   "cell_type": "code",
   "execution_count": 4,
   "metadata": {},
   "outputs": [
    {
     "name": "stdout",
     "output_type": "stream",
     "text": [
      "200\n",
      "[2]\n",
      "200\n",
      "[0]\n",
      "200\n",
      "[0]\n"
     ]
    }
   ],
   "source": [
    "import cv2\n",
    "import numpy as np\n",
    "import requests\n",
    "import os\n",
    "import warnings\n",
    "\n",
    "warnings.simplefilter(action='ignore', category=DeprecationWarning)\t\n",
    "\n",
    "url = 'http://127.0.0.1:8000/predict/'\n",
    "\n",
    "arquivos = ['../imagens/imagem_negativa.png', '../imagens/imagem_positiva.png', '../imagens/imagem_positiva_ruido.png']\n",
    "\n",
    "for arquivo in arquivos:\n",
    "    if not os.path.isfile(arquivo):\n",
    "        print(f\"{arquivo} -> Arquivo não encontrado\")\n",
    "    else:\n",
    "        #Le o arquivo com a imagem a ser processada\n",
    "        image = cv2.imread(arquivo)\n",
    "\n",
    "        # Prepara a imagem para envio na requisicao da API\n",
    "        # Converte para escala de cinza\n",
    "        gray_image = cv2.cvtColor(image, cv2.COLOR_BGR2GRAY)\n",
    "        # Escala o valor dos pixels de  0-255 apra 0-16\n",
    "        scaled_image = (gray_image / 255.0 * 16).astype(np.uint8)\n",
    "        # Converte para lista \n",
    "        scaled_image_list = scaled_image.reshape(1, -1).tolist()\n",
    "        # Monta o dicionario para envio\n",
    "        data = {\n",
    "            'image': scaled_image_list\n",
    "        }\n",
    "\n",
    "        try:\n",
    "            response = requests.post(url, json=data)\n",
    "            print(response.status_code)\n",
    "            result = response.json()\n",
    "            print(result['predict'])\n",
    "        except requests.exceptions.HTTPError as http_err:\n",
    "            print(f\"{arquivo} -> erro de HTTP: {http_err}\")\n",
    "        except requests.exceptions.ConnectionError as conn_err:\n",
    "            print(f\"{arquivo} -> erro de conexão: {conn_err}\")\n",
    "        except requests.exceptions.Timeout as timeout_err:\n",
    "            print(f\"{arquivo} -> erro de Timeout: {timeout_err}\")\n",
    "        except requests.exceptions.RequestException as req_err:\n",
    "            print(f\"{arquivo} -> erro: {req_err}\")\n",
    "\n"
   ]
  }
 ],
 "metadata": {
  "kernelspec": {
   "display_name": "Python 3",
   "language": "python",
   "name": "python3"
  },
  "language_info": {
   "codemirror_mode": {
    "name": "ipython",
    "version": 3
   },
   "file_extension": ".py",
   "mimetype": "text/x-python",
   "name": "python",
   "nbconvert_exporter": "python",
   "pygments_lexer": "ipython3",
   "version": "3.10.13"
  }
 },
 "nbformat": 4,
 "nbformat_minor": 2
}
