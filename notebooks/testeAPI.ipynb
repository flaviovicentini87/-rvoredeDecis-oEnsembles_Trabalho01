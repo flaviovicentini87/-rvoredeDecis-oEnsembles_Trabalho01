{
 "cells": [
  {
   "cell_type": "code",
   "execution_count": 73,
   "metadata": {},
   "outputs": [
    {
     "name": "stdout",
     "output_type": "stream",
     "text": [
      "200\n",
      "[[15 11 10  5  6  5 16 13]\n",
      " [12  0 11  9 11  5 12 10]\n",
      " [ 9 15 11  5 14 12 10  6]\n",
      " [ 3  6 14 15  7  0  0 12]\n",
      " [ 9 10  4  9  6  9  3  9]\n",
      " [ 9  5  9 12  3  3 12 12]\n",
      " [ 6 10 13 10  7  2  7 10]\n",
      " [ 3  2 13 13 12 14 14  8]]\n",
      "200\n",
      "[[ 0  0  5 13  9  1  0  0]\n",
      " [ 0  0 13 16 10 16  5  0]\n",
      " [ 0  3 16  2  0 11  8  0]\n",
      " [ 0  4 12  0  0  8  8  0]\n",
      " [ 0  5  8  0  0  9  8  0]\n",
      " [ 0  4 11  0  1 12  7  0]\n",
      " [ 0  2 14  5 10 12  0  0]\n",
      " [ 0  0  6 13 10  0  0  0]]\n",
      "200\n",
      "[[ 0  0  5 13  9  1  0  0]\n",
      " [ 0  0 13 15 10 16  5  0]\n",
      " [ 0  3 15  2  0 11  8  0]\n",
      " [ 0  4 12  0  0  8  8  0]\n",
      " [ 0  5  8  0  0  9  8  0]\n",
      " [ 0  4 11  0  1 12  7  0]\n",
      " [ 0  2 15  5 10 12  0  0]\n",
      " [ 0  0  6 13 11  0  0  0]]\n"
     ]
    }
   ],
   "source": [
    "import cv2\n",
    "import numpy as np\n",
    "import requests\n",
    "import os\n",
    "\n",
    "url = 'http://127.0.0.1:8000/predict/'\n",
    "\n",
    "arquivos = ['../imagens/imagem_negativa.png', '../imagens/imagem_positiva.png', '../imagens/imagem_positiva_ruido.png']\n",
    "\n",
    "for arquivo in arquivos:\n",
    "    if not os.path.isfile(arquivo):\n",
    "        print(f\"{arquivo} -> Arquivo não encontrado\")\n",
    "    else:\n",
    "        #Le o arquivo com a imagem a ser processada\n",
    "        image = cv2.imread(arquivo)\n",
    "\n",
    "        # Prepara a imagem para envio na requisicao da API\n",
    "        # Converte para escala de cinza\n",
    "        gray_image = cv2.cvtColor(image, cv2.COLOR_BGR2GRAY)\n",
    "        # Escala o valor dos pixels de  0-255 apra 0-16\n",
    "        scaled_image = (gray_image / 255.0 * 16).astype(np.uint8)\n",
    "        # Converte para lista \n",
    "        scaled_image_list = scaled_image.reshape(1, -1).tolist()\n",
    "        # Monta o dicionario para envio\n",
    "        data = {\n",
    "            'image': scaled_image_list\n",
    "        }\n",
    "\n",
    "        try:\n",
    "            response = requests.post(url, json=data)\n",
    "            print(response.status_code)\n",
    "            result = response.json()\n",
    "            np_array = np.array(result).reshape((8, 8))\n",
    "            print(np_array)\n",
    "        except requests.exceptions.HTTPError as http_err:\n",
    "            print(f\"{arquivo} -> erro de HTTP: {http_err}\")\n",
    "        except requests.exceptions.ConnectionError as conn_err:\n",
    "            print(f\"{arquivo} -> erro de conexão: {conn_err}\")\n",
    "        except requests.exceptions.Timeout as timeout_err:\n",
    "            print(f\"{arquivo} -> erro de Timeout: {timeout_err}\")\n",
    "        except requests.exceptions.RequestException as req_err:\n",
    "            print(f\"{arquivo} -> erro: {req_err}\")\n",
    "\n"
   ]
  },
  {
   "cell_type": "code",
   "execution_count": 74,
   "metadata": {},
   "outputs": [
    {
     "data": {
      "text/plain": [
       "<Figure size 640x480 with 0 Axes>"
      ]
     },
     "metadata": {},
     "output_type": "display_data"
    },
    {
     "data": {
      "image/png": "[encoded data removed]",
      "text/plain": [
       "<Figure size 480x480 with 1 Axes>"
      ]
     },
     "metadata": {},
     "output_type": "display_data"
    }
   ],
   "source": [
    "import matplotlib.pyplot as plt\n",
    "\n",
    "#img_data = np.array(scaled_image_list, dtype=np.uint8)\n",
    "# Reshape to 8x8\n",
    "image = np.array(response.text)\n",
    "\n",
    "plt.gray()\n",
    "plt.matshow(np_array)\n",
    "plt.show()"
   ]
  }
 ],
 "metadata": {
  "kernelspec": {
   "display_name": "Python 3",
   "language": "python",
   "name": "python3"
  },
  "language_info": {
   "codemirror_mode": {
    "name": "ipython",
    "version": 3
   },
   "file_extension": ".py",
   "mimetype": "text/x-python",
   "name": "python",
   "nbconvert_exporter": "python",
   "pygments_lexer": "ipython3",
   "version": "3.10.13"
  }
 },
 "nbformat": 4,
 "nbformat_minor": 2
}
